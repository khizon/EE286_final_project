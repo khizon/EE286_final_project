{
 "cells": [
  {
   "cell_type": "code",
   "execution_count": 1,
   "id": "6b11a152-7725-4709-a159-26c040e64cd2",
   "metadata": {},
   "outputs": [],
   "source": [
    "!pip install transformers --q\n",
    "!pip install datasets --q\n",
    "!pip install torch==1.10.0+cu113 torchvision==0.11.1+cu113 torchaudio===0.10.0+cu113 -f https://download.pytorch.org/whl/cu113/torch_stable.html --q\n",
    "!pip install --upgrade --force-reinstall gdown --q\n",
    "!pip install wandb --q\n",
    "# !pip install jiwer --q\n",
    "# !pip install librosa --q"
   ]
  },
  {
   "cell_type": "code",
   "execution_count": 79,
   "id": "fc883fda-1129-4702-b72c-cc76987a4604",
   "metadata": {},
   "outputs": [
    {
     "name": "stdout",
     "output_type": "stream",
     "text": [
      "Config option `kernel_spec_manager_class` not recognized by `EnableNBExtensionApp`.\n",
      "404 Client Error: Not Found for url: http://metadata/computeMetadata/v1/instance/attributes/use-collaborative\n",
      "Enabling notebook extension jupyter-js-widgets/extension...\n",
      "      - Validating: \u001b[32mOK\u001b[0m\n"
     ]
    }
   ],
   "source": [
    "!jupyter nbextension enable --py widgetsnbextension"
   ]
  },
  {
   "cell_type": "markdown",
   "id": "87549afd-cb8f-4bb0-83c6-e4888ff573eb",
   "metadata": {},
   "source": [
    "# Data Exploration"
   ]
  },
  {
   "cell_type": "markdown",
   "id": "cba4685a-2a35-403a-b641-fe968b77e824",
   "metadata": {},
   "source": [
    "The download_dataset script already takes care of the downloading of the audio files and splitting into train and test."
   ]
  },
  {
   "cell_type": "code",
   "execution_count": 2,
   "id": "bf7ed579-f6a7-4275-b8ec-02c51ead38ea",
   "metadata": {},
   "outputs": [],
   "source": [
    "import pandas as pd\n",
    "import numpy as np\n",
    "import torchaudio\n",
    "import IPython.display as ipd"
   ]
  },
  {
   "cell_type": "code",
   "execution_count": 3,
   "id": "b3493661-5861-445c-95c0-2b070e1bc8ad",
   "metadata": {},
   "outputs": [
    {
     "data": {
      "text/html": [
       "<div>\n",
       "<style scoped>\n",
       "    .dataframe tbody tr th:only-of-type {\n",
       "        vertical-align: middle;\n",
       "    }\n",
       "\n",
       "    .dataframe tbody tr th {\n",
       "        vertical-align: top;\n",
       "    }\n",
       "\n",
       "    .dataframe thead th {\n",
       "        text-align: right;\n",
       "    }\n",
       "</style>\n",
       "<table border=\"1\" class=\"dataframe\">\n",
       "  <thead>\n",
       "    <tr style=\"text-align: right;\">\n",
       "      <th></th>\n",
       "      <th>name</th>\n",
       "      <th>path</th>\n",
       "      <th>emotion</th>\n",
       "    </tr>\n",
       "  </thead>\n",
       "  <tbody>\n",
       "    <tr>\n",
       "      <th>0</th>\n",
       "      <td>h08 (1)</td>\n",
       "      <td>data/aesdd/happiness/h08 (1).wav</td>\n",
       "      <td>happiness</td>\n",
       "    </tr>\n",
       "    <tr>\n",
       "      <th>1</th>\n",
       "      <td>a11 (3)</td>\n",
       "      <td>data/aesdd/anger/a11 (3).wav</td>\n",
       "      <td>anger</td>\n",
       "    </tr>\n",
       "    <tr>\n",
       "      <th>2</th>\n",
       "      <td>d06 (4)</td>\n",
       "      <td>data/aesdd/disgust/d06 (4).wav</td>\n",
       "      <td>disgust</td>\n",
       "    </tr>\n",
       "    <tr>\n",
       "      <th>3</th>\n",
       "      <td>s14 (6)</td>\n",
       "      <td>data/aesdd/sadness/s14 (6).wav</td>\n",
       "      <td>sadness</td>\n",
       "    </tr>\n",
       "    <tr>\n",
       "      <th>4</th>\n",
       "      <td>s18 (3)</td>\n",
       "      <td>data/aesdd/sadness/s18 (3).wav</td>\n",
       "      <td>sadness</td>\n",
       "    </tr>\n",
       "  </tbody>\n",
       "</table>\n",
       "</div>"
      ],
      "text/plain": [
       "      name                              path    emotion\n",
       "0  h08 (1)  data/aesdd/happiness/h08 (1).wav  happiness\n",
       "1  a11 (3)      data/aesdd/anger/a11 (3).wav      anger\n",
       "2  d06 (4)    data/aesdd/disgust/d06 (4).wav    disgust\n",
       "3  s14 (6)    data/aesdd/sadness/s14 (6).wav    sadness\n",
       "4  s18 (3)    data/aesdd/sadness/s18 (3).wav    sadness"
      ]
     },
     "execution_count": 3,
     "metadata": {},
     "output_type": "execute_result"
    }
   ],
   "source": [
    "train = pd.read_csv('data/train.csv', delimiter = '\\t')\n",
    "train.head()"
   ]
  },
  {
   "cell_type": "code",
   "execution_count": 4,
   "id": "43263a9d-217f-403a-9a01-d04ed66029f5",
   "metadata": {},
   "outputs": [
    {
     "data": {
      "text/html": [
       "<div>\n",
       "<style scoped>\n",
       "    .dataframe tbody tr th:only-of-type {\n",
       "        vertical-align: middle;\n",
       "    }\n",
       "\n",
       "    .dataframe tbody tr th {\n",
       "        vertical-align: top;\n",
       "    }\n",
       "\n",
       "    .dataframe thead th {\n",
       "        text-align: right;\n",
       "    }\n",
       "</style>\n",
       "<table border=\"1\" class=\"dataframe\">\n",
       "  <thead>\n",
       "    <tr style=\"text-align: right;\">\n",
       "      <th></th>\n",
       "      <th>path</th>\n",
       "    </tr>\n",
       "    <tr>\n",
       "      <th>emotion</th>\n",
       "      <th></th>\n",
       "    </tr>\n",
       "  </thead>\n",
       "  <tbody>\n",
       "    <tr>\n",
       "      <th>anger</th>\n",
       "      <td>97</td>\n",
       "    </tr>\n",
       "    <tr>\n",
       "      <th>disgust</th>\n",
       "      <td>98</td>\n",
       "    </tr>\n",
       "    <tr>\n",
       "      <th>fear</th>\n",
       "      <td>96</td>\n",
       "    </tr>\n",
       "    <tr>\n",
       "      <th>happiness</th>\n",
       "      <td>95</td>\n",
       "    </tr>\n",
       "    <tr>\n",
       "      <th>sadness</th>\n",
       "      <td>97</td>\n",
       "    </tr>\n",
       "  </tbody>\n",
       "</table>\n",
       "</div>"
      ],
      "text/plain": [
       "           path\n",
       "emotion        \n",
       "anger        97\n",
       "disgust      98\n",
       "fear         96\n",
       "happiness    95\n",
       "sadness      97"
      ]
     },
     "execution_count": 4,
     "metadata": {},
     "output_type": "execute_result"
    }
   ],
   "source": [
    "train.groupby(\"emotion\").count()[[\"path\"]]"
   ]
  },
  {
   "cell_type": "code",
   "execution_count": 5,
   "id": "692c8dd5-19df-438e-9122-3c3e3ea3d30d",
   "metadata": {},
   "outputs": [
    {
     "data": {
      "text/html": [
       "<div>\n",
       "<style scoped>\n",
       "    .dataframe tbody tr th:only-of-type {\n",
       "        vertical-align: middle;\n",
       "    }\n",
       "\n",
       "    .dataframe tbody tr th {\n",
       "        vertical-align: top;\n",
       "    }\n",
       "\n",
       "    .dataframe thead th {\n",
       "        text-align: right;\n",
       "    }\n",
       "</style>\n",
       "<table border=\"1\" class=\"dataframe\">\n",
       "  <thead>\n",
       "    <tr style=\"text-align: right;\">\n",
       "      <th></th>\n",
       "      <th>name</th>\n",
       "      <th>path</th>\n",
       "      <th>emotion</th>\n",
       "    </tr>\n",
       "  </thead>\n",
       "  <tbody>\n",
       "    <tr>\n",
       "      <th>0</th>\n",
       "      <td>d07 (5)</td>\n",
       "      <td>data/aesdd/disgust/d07 (5).wav</td>\n",
       "      <td>disgust</td>\n",
       "    </tr>\n",
       "    <tr>\n",
       "      <th>1</th>\n",
       "      <td>s02 (5)b</td>\n",
       "      <td>data/aesdd/sadness/s02 (5)b.wav</td>\n",
       "      <td>sadness</td>\n",
       "    </tr>\n",
       "    <tr>\n",
       "      <th>2</th>\n",
       "      <td>a08 (5)</td>\n",
       "      <td>data/aesdd/anger/a08 (5).wav</td>\n",
       "      <td>anger</td>\n",
       "    </tr>\n",
       "    <tr>\n",
       "      <th>3</th>\n",
       "      <td>s11 (2)</td>\n",
       "      <td>data/aesdd/sadness/s11 (2).wav</td>\n",
       "      <td>sadness</td>\n",
       "    </tr>\n",
       "    <tr>\n",
       "      <th>4</th>\n",
       "      <td>h04 (5)</td>\n",
       "      <td>data/aesdd/happiness/h04 (5).wav</td>\n",
       "      <td>happiness</td>\n",
       "    </tr>\n",
       "  </tbody>\n",
       "</table>\n",
       "</div>"
      ],
      "text/plain": [
       "       name                              path    emotion\n",
       "0   d07 (5)    data/aesdd/disgust/d07 (5).wav    disgust\n",
       "1  s02 (5)b   data/aesdd/sadness/s02 (5)b.wav    sadness\n",
       "2   a08 (5)      data/aesdd/anger/a08 (5).wav      anger\n",
       "3   s11 (2)    data/aesdd/sadness/s11 (2).wav    sadness\n",
       "4   h04 (5)  data/aesdd/happiness/h04 (5).wav  happiness"
      ]
     },
     "execution_count": 5,
     "metadata": {},
     "output_type": "execute_result"
    }
   ],
   "source": [
    "test = pd.read_csv('data/test.csv', delimiter = '\\t')\n",
    "test.head()"
   ]
  },
  {
   "cell_type": "code",
   "execution_count": 6,
   "id": "d44d428e-1b2e-47be-a539-62cab623c148",
   "metadata": {},
   "outputs": [
    {
     "data": {
      "text/html": [
       "<div>\n",
       "<style scoped>\n",
       "    .dataframe tbody tr th:only-of-type {\n",
       "        vertical-align: middle;\n",
       "    }\n",
       "\n",
       "    .dataframe tbody tr th {\n",
       "        vertical-align: top;\n",
       "    }\n",
       "\n",
       "    .dataframe thead th {\n",
       "        text-align: right;\n",
       "    }\n",
       "</style>\n",
       "<table border=\"1\" class=\"dataframe\">\n",
       "  <thead>\n",
       "    <tr style=\"text-align: right;\">\n",
       "      <th></th>\n",
       "      <th>path</th>\n",
       "    </tr>\n",
       "    <tr>\n",
       "      <th>emotion</th>\n",
       "      <th></th>\n",
       "    </tr>\n",
       "  </thead>\n",
       "  <tbody>\n",
       "    <tr>\n",
       "      <th>anger</th>\n",
       "      <td>24</td>\n",
       "    </tr>\n",
       "    <tr>\n",
       "      <th>disgust</th>\n",
       "      <td>24</td>\n",
       "    </tr>\n",
       "    <tr>\n",
       "      <th>fear</th>\n",
       "      <td>24</td>\n",
       "    </tr>\n",
       "    <tr>\n",
       "      <th>happiness</th>\n",
       "      <td>24</td>\n",
       "    </tr>\n",
       "    <tr>\n",
       "      <th>sadness</th>\n",
       "      <td>25</td>\n",
       "    </tr>\n",
       "  </tbody>\n",
       "</table>\n",
       "</div>"
      ],
      "text/plain": [
       "           path\n",
       "emotion        \n",
       "anger        24\n",
       "disgust      24\n",
       "fear         24\n",
       "happiness    24\n",
       "sadness      25"
      ]
     },
     "execution_count": 6,
     "metadata": {},
     "output_type": "execute_result"
    }
   ],
   "source": [
    "test.groupby(\"emotion\").count()[[\"path\"]]"
   ]
  },
  {
   "cell_type": "markdown",
   "id": "1a15b872-6758-4d09-a1d1-52a4069c991e",
   "metadata": {},
   "source": [
    "Let us listen to a random sample from the training dataset"
   ]
  },
  {
   "cell_type": "code",
   "execution_count": 7,
   "id": "37686d29-51c1-4467-8c75-23411d573d3a",
   "metadata": {},
   "outputs": [
    {
     "name": "stdout",
     "output_type": "stream",
     "text": [
      "Id: 128 Emotion: anger\n"
     ]
    },
    {
     "data": {
      "text/html": [
       "\n",
       "                <audio  controls=\"controls\" >\n",
       "                    <source src=\"data:audio/wav;base64,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\" type=\"audio/wav\" />\n",
       "                    Your browser does not support the audio element.\n",
       "                </audio>\n",
       "              "
      ],
      "text/plain": [
       "<IPython.lib.display.Audio object>"
      ]
     },
     "execution_count": 7,
     "metadata": {},
     "output_type": "execute_result"
    }
   ],
   "source": [
    "idx = np.random.randint(0, len(train))\n",
    "sample = train.iloc[idx]\n",
    "path = sample['path']\n",
    "label = sample['emotion']\n",
    "\n",
    "print(f'Id: {idx} Emotion: {label}')\n",
    "signal, sr = torchaudio.load(path)\n",
    "resampler = torchaudio.transforms.Resample(sr, 16_000)\n",
    "signal = resampler(signal).squeeze().numpy()\n",
    "ipd.Audio(data=np.asarray(signal), rate = 16_000)"
   ]
  },
  {
   "cell_type": "markdown",
   "id": "74010cbb-1673-4b46-941f-a8fd29be2698",
   "metadata": {},
   "source": [
    "# Prepare the data for training"
   ]
  },
  {
   "cell_type": "code",
   "execution_count": 18,
   "id": "78510d42-001c-49ac-b28a-be61ee6ae240",
   "metadata": {},
   "outputs": [
    {
     "name": "stderr",
     "output_type": "stream",
     "text": [
      "Using custom data configuration default-cde8cd95c5ba24f6\n",
      "Reusing dataset csv (/home/jupyter/.cache/huggingface/datasets/csv/default-cde8cd95c5ba24f6/0.0.0/6b9057d9e23d9d8a2f05b985917a0da84d70c5dae3d22ddd8a3f22fb01c69d9e)\n"
     ]
    },
    {
     "data": {
      "application/vnd.jupyter.widget-view+json": {
       "model_id": "e1411f9733c84715b0c4beac5f6aebcd",
       "version_major": 2,
       "version_minor": 0
      },
      "text/plain": [
       "  0%|          | 0/2 [00:00<?, ?it/s]"
      ]
     },
     "metadata": {},
     "output_type": "display_data"
    },
    {
     "name": "stdout",
     "output_type": "stream",
     "text": [
      "Dataset({\n",
      "    features: ['name', 'path', 'emotion'],\n",
      "    num_rows: 40\n",
      "})\n",
      "Dataset({\n",
      "    features: ['name', 'path', 'emotion'],\n",
      "    num_rows: 20\n",
      "})\n"
     ]
    }
   ],
   "source": [
    "# Loading the created dataset using datasets\n",
    "from datasets import load_dataset, load_metric\n",
    "\n",
    "\n",
    "data_files = {\n",
    "    \"train\": \"data/train.csv\", \n",
    "    \"validation\": \"data/test.csv\",\n",
    "}\n",
    "\n",
    "dataset = load_dataset(\"csv\", data_files=data_files, delimiter=\"\\t\", )\n",
    "train_dataset = dataset[\"train\"].select(np.arange(0,40))\n",
    "eval_dataset = dataset[\"validation\"].select(np.arange(0,20))\n",
    "\n",
    "print(train_dataset)\n",
    "print(eval_dataset)"
   ]
  },
  {
   "cell_type": "code",
   "execution_count": 19,
   "id": "64fa3894-387b-4fb5-91de-b8e46ffd80fc",
   "metadata": {},
   "outputs": [
    {
     "data": {
      "application/vnd.jupyter.widget-view+json": {
       "model_id": "db76dcb7dc224cd593151fa87693a7bc",
       "version_major": 2,
       "version_minor": 0
      },
      "text/plain": [
       "Flattening the indices:   0%|          | 0/1 [00:00<?, ?ba/s]"
      ]
     },
     "metadata": {},
     "output_type": "display_data"
    },
    {
     "name": "stdout",
     "output_type": "stream",
     "text": [
      "A classification problem with 5 classes: ['anger', 'disgust', 'fear', 'happiness', 'sadness']\n"
     ]
    }
   ],
   "source": [
    "# We need to specify the input and output column\n",
    "input_column = \"path\"\n",
    "output_column = \"emotion\"\n",
    "# we need to distinguish the unique labels in our SER dataset\n",
    "label_list = train_dataset.unique(output_column)\n",
    "label_list.sort()  # Let's sort it for determinism\n",
    "num_labels = len(label_list)\n",
    "print(f\"A classification problem with {num_labels} classes: {label_list}\")"
   ]
  },
  {
   "cell_type": "markdown",
   "id": "9c9aea6f-d4ce-4a49-b434-90948920156a",
   "metadata": {},
   "source": [
    "## Converts audio to vector features (tokens)"
   ]
  },
  {
   "cell_type": "code",
   "execution_count": 20,
   "id": "903b832f-6363-49df-aa5f-64bd8a58ee90",
   "metadata": {},
   "outputs": [],
   "source": [
    "from transformers import AutoConfig, Wav2Vec2Processor\n",
    "\n",
    "model_name_or_path = \"lighteternal/wav2vec2-large-xlsr-53-greek\"\n",
    "pooling_mode = \"mean\"\n",
    "\n",
    "# config\n",
    "config = AutoConfig.from_pretrained(\n",
    "    model_name_or_path,\n",
    "    num_labels=num_labels,\n",
    "    label2id={label: i for i, label in enumerate(label_list)},\n",
    "    id2label={i: label for i, label in enumerate(label_list)},\n",
    "    finetuning_task=\"wav2vec2_clf\",\n",
    ")\n",
    "setattr(config, 'pooling_mode', pooling_mode)"
   ]
  },
  {
   "cell_type": "code",
   "execution_count": 21,
   "id": "f8d03455-62f3-41e9-8596-a0da6ef512da",
   "metadata": {},
   "outputs": [
    {
     "name": "stderr",
     "output_type": "stream",
     "text": [
      "Special tokens have been added in the vocabulary, make sure the associated word embeddings are fine-tuned or trained.\n"
     ]
    },
    {
     "name": "stdout",
     "output_type": "stream",
     "text": [
      "The target sampling rate: 16000\n"
     ]
    }
   ],
   "source": [
    "processor = Wav2Vec2Processor.from_pretrained(model_name_or_path,)\n",
    "target_sampling_rate = processor.feature_extractor.sampling_rate\n",
    "print(f\"The target sampling rate: {target_sampling_rate}\")"
   ]
  },
  {
   "cell_type": "markdown",
   "id": "0586e66a-68da-4909-840c-0157f126796c",
   "metadata": {},
   "source": [
    "The processing will mainly be resampling the audio file to the sampling frequency used by the model. Then we \"tokenize\" the audio file using the processor."
   ]
  },
  {
   "cell_type": "code",
   "execution_count": 22,
   "id": "7c0e31eb-0977-412f-a5ca-8f634366906a",
   "metadata": {},
   "outputs": [],
   "source": [
    "def speech_file_to_array_fn(path):\n",
    "    speech_array, sampling_rate = torchaudio.load(path)\n",
    "    resampler = torchaudio.transforms.Resample(sampling_rate, target_sampling_rate)\n",
    "    speech = resampler(speech_array).squeeze().numpy()\n",
    "    return speech\n",
    "\n",
    "def label_to_id(label, label_list):\n",
    "\n",
    "    if len(label_list) > 0:\n",
    "        return label_list.index(label) if label in label_list else -1\n",
    "\n",
    "    return label\n",
    "\n",
    "def preprocess_function(examples):\n",
    "    speech_list = [speech_file_to_array_fn(path) for path in examples[input_column]]\n",
    "    target_list = [label_to_id(label, label_list) for label in examples[output_column]]\n",
    "\n",
    "    result = processor(speech_list, sampling_rate=target_sampling_rate)\n",
    "    result[\"labels\"] = list(target_list)\n",
    "\n",
    "    return result"
   ]
  },
  {
   "cell_type": "code",
   "execution_count": 24,
   "id": "da32790e-c660-4654-ac00-45a3865d3409",
   "metadata": {},
   "outputs": [
    {
     "data": {
      "text/plain": [
       "Dataset({\n",
       "    features: ['name', 'path', 'emotion'],\n",
       "    num_rows: 40\n",
       "})"
      ]
     },
     "execution_count": 24,
     "metadata": {},
     "output_type": "execute_result"
    }
   ],
   "source": [
    "train_dataset"
   ]
  },
  {
   "cell_type": "code",
   "execution_count": null,
   "id": "aecddfe2-757f-4b4f-9cf8-be83423167b2",
   "metadata": {},
   "outputs": [],
   "source": []
  },
  {
   "cell_type": "code",
   "execution_count": 23,
   "id": "ddd4e36e-aba3-43ea-aed5-8d694e0e7f55",
   "metadata": {},
   "outputs": [
    {
     "ename": "KeyboardInterrupt",
     "evalue": "",
     "output_type": "error",
     "traceback": [
      "\u001b[0;31m---------------------------------------------------------------------------\u001b[0m",
      "\u001b[0;31mKeyboardInterrupt\u001b[0m                         Traceback (most recent call last)",
      "\u001b[0;32m/tmp/ipykernel_32065/452663394.py\u001b[0m in \u001b[0;36m<module>\u001b[0;34m\u001b[0m\n\u001b[1;32m      3\u001b[0m     \u001b[0mbatch_size\u001b[0m\u001b[0;34m=\u001b[0m\u001b[0;36m10\u001b[0m\u001b[0;34m,\u001b[0m\u001b[0;34m\u001b[0m\u001b[0;34m\u001b[0m\u001b[0m\n\u001b[1;32m      4\u001b[0m     \u001b[0mbatched\u001b[0m\u001b[0;34m=\u001b[0m\u001b[0;32mTrue\u001b[0m\u001b[0;34m,\u001b[0m\u001b[0;34m\u001b[0m\u001b[0;34m\u001b[0m\u001b[0m\n\u001b[0;32m----> 5\u001b[0;31m     \u001b[0mnum_proc\u001b[0m\u001b[0;34m=\u001b[0m\u001b[0;36m4\u001b[0m\u001b[0;34m\u001b[0m\u001b[0;34m\u001b[0m\u001b[0m\n\u001b[0m\u001b[1;32m      6\u001b[0m )\n",
      "\u001b[0;32m/opt/conda/lib/python3.7/site-packages/datasets/arrow_dataset.py\u001b[0m in \u001b[0;36mmap\u001b[0;34m(self, function, with_indices, with_rank, input_columns, batched, batch_size, drop_last_batch, remove_columns, keep_in_memory, load_from_cache_file, cache_file_name, writer_batch_size, features, disable_nullable, fn_kwargs, num_proc, suffix_template, new_fingerprint, desc)\u001b[0m\n\u001b[1;32m   2203\u001b[0m \u001b[0;34m\u001b[0m\u001b[0m\n\u001b[1;32m   2204\u001b[0m                     \u001b[0;32mfor\u001b[0m \u001b[0mindex\u001b[0m\u001b[0;34m,\u001b[0m \u001b[0masync_result\u001b[0m \u001b[0;32min\u001b[0m \u001b[0mresults\u001b[0m\u001b[0;34m.\u001b[0m\u001b[0mitems\u001b[0m\u001b[0;34m(\u001b[0m\u001b[0;34m)\u001b[0m\u001b[0;34m:\u001b[0m\u001b[0;34m\u001b[0m\u001b[0;34m\u001b[0m\u001b[0m\n\u001b[0;32m-> 2205\u001b[0;31m                         \u001b[0mtransformed_shards\u001b[0m\u001b[0;34m[\u001b[0m\u001b[0mindex\u001b[0m\u001b[0;34m]\u001b[0m \u001b[0;34m=\u001b[0m \u001b[0masync_result\u001b[0m\u001b[0;34m.\u001b[0m\u001b[0mget\u001b[0m\u001b[0;34m(\u001b[0m\u001b[0;34m)\u001b[0m\u001b[0;34m\u001b[0m\u001b[0;34m\u001b[0m\u001b[0m\n\u001b[0m\u001b[1;32m   2206\u001b[0m \u001b[0;34m\u001b[0m\u001b[0m\n\u001b[1;32m   2207\u001b[0m             assert (\n",
      "\u001b[0;32m/opt/conda/lib/python3.7/site-packages/multiprocess/pool.py\u001b[0m in \u001b[0;36mget\u001b[0;34m(self, timeout)\u001b[0m\n\u001b[1;32m    649\u001b[0m \u001b[0;34m\u001b[0m\u001b[0m\n\u001b[1;32m    650\u001b[0m     \u001b[0;32mdef\u001b[0m \u001b[0mget\u001b[0m\u001b[0;34m(\u001b[0m\u001b[0mself\u001b[0m\u001b[0;34m,\u001b[0m \u001b[0mtimeout\u001b[0m\u001b[0;34m=\u001b[0m\u001b[0;32mNone\u001b[0m\u001b[0;34m)\u001b[0m\u001b[0;34m:\u001b[0m\u001b[0;34m\u001b[0m\u001b[0;34m\u001b[0m\u001b[0m\n\u001b[0;32m--> 651\u001b[0;31m         \u001b[0mself\u001b[0m\u001b[0;34m.\u001b[0m\u001b[0mwait\u001b[0m\u001b[0;34m(\u001b[0m\u001b[0mtimeout\u001b[0m\u001b[0;34m)\u001b[0m\u001b[0;34m\u001b[0m\u001b[0;34m\u001b[0m\u001b[0m\n\u001b[0m\u001b[1;32m    652\u001b[0m         \u001b[0;32mif\u001b[0m \u001b[0;32mnot\u001b[0m \u001b[0mself\u001b[0m\u001b[0;34m.\u001b[0m\u001b[0mready\u001b[0m\u001b[0;34m(\u001b[0m\u001b[0;34m)\u001b[0m\u001b[0;34m:\u001b[0m\u001b[0;34m\u001b[0m\u001b[0;34m\u001b[0m\u001b[0m\n\u001b[1;32m    653\u001b[0m             \u001b[0;32mraise\u001b[0m \u001b[0mTimeoutError\u001b[0m\u001b[0;34m\u001b[0m\u001b[0;34m\u001b[0m\u001b[0m\n",
      "\u001b[0;32m/opt/conda/lib/python3.7/site-packages/multiprocess/pool.py\u001b[0m in \u001b[0;36mwait\u001b[0;34m(self, timeout)\u001b[0m\n\u001b[1;32m    646\u001b[0m \u001b[0;34m\u001b[0m\u001b[0m\n\u001b[1;32m    647\u001b[0m     \u001b[0;32mdef\u001b[0m \u001b[0mwait\u001b[0m\u001b[0;34m(\u001b[0m\u001b[0mself\u001b[0m\u001b[0;34m,\u001b[0m \u001b[0mtimeout\u001b[0m\u001b[0;34m=\u001b[0m\u001b[0;32mNone\u001b[0m\u001b[0;34m)\u001b[0m\u001b[0;34m:\u001b[0m\u001b[0;34m\u001b[0m\u001b[0;34m\u001b[0m\u001b[0m\n\u001b[0;32m--> 648\u001b[0;31m         \u001b[0mself\u001b[0m\u001b[0;34m.\u001b[0m\u001b[0m_event\u001b[0m\u001b[0;34m.\u001b[0m\u001b[0mwait\u001b[0m\u001b[0;34m(\u001b[0m\u001b[0mtimeout\u001b[0m\u001b[0;34m)\u001b[0m\u001b[0;34m\u001b[0m\u001b[0;34m\u001b[0m\u001b[0m\n\u001b[0m\u001b[1;32m    649\u001b[0m \u001b[0;34m\u001b[0m\u001b[0m\n\u001b[1;32m    650\u001b[0m     \u001b[0;32mdef\u001b[0m \u001b[0mget\u001b[0m\u001b[0;34m(\u001b[0m\u001b[0mself\u001b[0m\u001b[0;34m,\u001b[0m \u001b[0mtimeout\u001b[0m\u001b[0;34m=\u001b[0m\u001b[0;32mNone\u001b[0m\u001b[0;34m)\u001b[0m\u001b[0;34m:\u001b[0m\u001b[0;34m\u001b[0m\u001b[0;34m\u001b[0m\u001b[0m\n",
      "\u001b[0;32m/opt/conda/lib/python3.7/threading.py\u001b[0m in \u001b[0;36mwait\u001b[0;34m(self, timeout)\u001b[0m\n\u001b[1;32m    550\u001b[0m             \u001b[0msignaled\u001b[0m \u001b[0;34m=\u001b[0m \u001b[0mself\u001b[0m\u001b[0;34m.\u001b[0m\u001b[0m_flag\u001b[0m\u001b[0;34m\u001b[0m\u001b[0;34m\u001b[0m\u001b[0m\n\u001b[1;32m    551\u001b[0m             \u001b[0;32mif\u001b[0m \u001b[0;32mnot\u001b[0m \u001b[0msignaled\u001b[0m\u001b[0;34m:\u001b[0m\u001b[0;34m\u001b[0m\u001b[0;34m\u001b[0m\u001b[0m\n\u001b[0;32m--> 552\u001b[0;31m                 \u001b[0msignaled\u001b[0m \u001b[0;34m=\u001b[0m \u001b[0mself\u001b[0m\u001b[0;34m.\u001b[0m\u001b[0m_cond\u001b[0m\u001b[0;34m.\u001b[0m\u001b[0mwait\u001b[0m\u001b[0;34m(\u001b[0m\u001b[0mtimeout\u001b[0m\u001b[0;34m)\u001b[0m\u001b[0;34m\u001b[0m\u001b[0;34m\u001b[0m\u001b[0m\n\u001b[0m\u001b[1;32m    553\u001b[0m             \u001b[0;32mreturn\u001b[0m \u001b[0msignaled\u001b[0m\u001b[0;34m\u001b[0m\u001b[0;34m\u001b[0m\u001b[0m\n\u001b[1;32m    554\u001b[0m \u001b[0;34m\u001b[0m\u001b[0m\n",
      "\u001b[0;32m/opt/conda/lib/python3.7/threading.py\u001b[0m in \u001b[0;36mwait\u001b[0;34m(self, timeout)\u001b[0m\n\u001b[1;32m    294\u001b[0m         \u001b[0;32mtry\u001b[0m\u001b[0;34m:\u001b[0m    \u001b[0;31m# restore state no matter what (e.g., KeyboardInterrupt)\u001b[0m\u001b[0;34m\u001b[0m\u001b[0;34m\u001b[0m\u001b[0m\n\u001b[1;32m    295\u001b[0m             \u001b[0;32mif\u001b[0m \u001b[0mtimeout\u001b[0m \u001b[0;32mis\u001b[0m \u001b[0;32mNone\u001b[0m\u001b[0;34m:\u001b[0m\u001b[0;34m\u001b[0m\u001b[0;34m\u001b[0m\u001b[0m\n\u001b[0;32m--> 296\u001b[0;31m                 \u001b[0mwaiter\u001b[0m\u001b[0;34m.\u001b[0m\u001b[0macquire\u001b[0m\u001b[0;34m(\u001b[0m\u001b[0;34m)\u001b[0m\u001b[0;34m\u001b[0m\u001b[0;34m\u001b[0m\u001b[0m\n\u001b[0m\u001b[1;32m    297\u001b[0m                 \u001b[0mgotit\u001b[0m \u001b[0;34m=\u001b[0m \u001b[0;32mTrue\u001b[0m\u001b[0;34m\u001b[0m\u001b[0;34m\u001b[0m\u001b[0m\n\u001b[1;32m    298\u001b[0m             \u001b[0;32melse\u001b[0m\u001b[0;34m:\u001b[0m\u001b[0;34m\u001b[0m\u001b[0;34m\u001b[0m\u001b[0m\n",
      "\u001b[0;31mKeyboardInterrupt\u001b[0m: "
     ]
    }
   ],
   "source": [
    "train_dataset = train_dataset.map(\n",
    "    preprocess_function,\n",
    "    batch_size=10,\n",
    "    batched=True,\n",
    "    num_proc=4\n",
    ")"
   ]
  },
  {
   "cell_type": "code",
   "execution_count": null,
   "id": "63d7064d-a566-4977-a63c-4f723570274f",
   "metadata": {},
   "outputs": [],
   "source": [
    "eval_dataset = eval_dataset.map(\n",
    "    preprocess_function,\n",
    "    batch_size=100,\n",
    "    batched=True,\n",
    "    num_proc=4\n",
    ")"
   ]
  },
  {
   "cell_type": "code",
   "execution_count": null,
   "id": "a6c82b02-0dc5-416b-ab1e-56ba4df044d8",
   "metadata": {},
   "outputs": [],
   "source": [
    "idx = 0\n",
    "print(f\"Training input_values: {train_dataset[idx]['input_values']}\")\n",
    "print(f\"Training attention_mask: {train_dataset[idx]['attention_mask']}\")\n",
    "print(f\"Training labels: {train_dataset[idx]['labels']} - {train_dataset[idx]['emotion']}\")"
   ]
  },
  {
   "cell_type": "markdown",
   "id": "16096885-7b60-4f6c-ac64-d7b59aebd07a",
   "metadata": {},
   "source": [
    "# Defining the Model\n",
    "In this section we will define the model that we will be using. The Wav2Vec2 family of models are originally designed for Speech-to-text. We will be modifying its function by attaching a classification head on top of the original model"
   ]
  },
  {
   "cell_type": "code",
   "execution_count": null,
   "id": "7c4c4d22-81d5-4008-bfc9-7b3c876b5941",
   "metadata": {},
   "outputs": [],
   "source": [
    "from dataclasses import dataclass\n",
    "from typing import Optional, Tuple\n",
    "import torch\n",
    "from transformers.file_utils import ModelOutput\n",
    "\n",
    "\n",
    "@dataclass\n",
    "class SpeechClassifierOutput(ModelOutput):\n",
    "    loss: Optional[torch.FloatTensor] = None\n",
    "    logits: torch.FloatTensor = None\n",
    "    hidden_states: Optional[Tuple[torch.FloatTensor]] = None\n",
    "    attentions: Optional[Tuple[torch.FloatTensor]] = None\n"
   ]
  },
  {
   "cell_type": "markdown",
   "id": "f4a30526-c9da-4fa8-98e0-99ce433f0d82",
   "metadata": {},
   "source": [
    "The classification head is an artificial neural network structure that takes the output of the original Wave2Vec2 model and then converts it to probabilities for each of the 5 classes. The class with the highes probabiity will be the output of the classfier"
   ]
  },
  {
   "cell_type": "code",
   "execution_count": null,
   "id": "ea285b0b-482c-4159-8f1c-ffb0de6e3e4e",
   "metadata": {},
   "outputs": [],
   "source": [
    "import torch\n",
    "import torch.nn as nn\n",
    "from torch.nn import BCEWithLogitsLoss, CrossEntropyLoss, MSELoss\n",
    "\n",
    "from transformers.models.wav2vec2.modeling_wav2vec2 import (\n",
    "    Wav2Vec2PreTrainedModel,\n",
    "    Wav2Vec2Model\n",
    ")\n",
    "\n",
    "\n",
    "class Wav2Vec2ClassificationHead(nn.Module):\n",
    "    \"\"\"Head for wav2vec classification task.\"\"\"\n",
    "\n",
    "    def __init__(self, config):\n",
    "        super().__init__()\n",
    "        self.dense = nn.Linear(config.hidden_size, config.hidden_size)\n",
    "        self.dropout = nn.Dropout(config.final_dropout)\n",
    "        self.out_proj = nn.Linear(config.hidden_size, config.num_labels)\n",
    "\n",
    "    def forward(self, features, **kwargs):\n",
    "        x = features\n",
    "        x = self.dropout(x)\n",
    "        x = self.dense(x)\n",
    "        x = torch.tanh(x)\n",
    "        x = self.dropout(x)\n",
    "        x = self.out_proj(x)\n",
    "        return x\n",
    "\n",
    "\n",
    "class Wav2Vec2ForSpeechClassification(Wav2Vec2PreTrainedModel):\n",
    "    def __init__(self, config):\n",
    "        super().__init__(config)\n",
    "        self.num_labels = config.num_labels\n",
    "        self.pooling_mode = config.pooling_mode\n",
    "        self.config = config\n",
    "\n",
    "        self.wav2vec2 = Wav2Vec2Model(config)\n",
    "        self.classifier = Wav2Vec2ClassificationHead(config)\n",
    "\n",
    "        self.init_weights()\n",
    "\n",
    "    def freeze_feature_extractor(self):\n",
    "        self.wav2vec2.feature_extractor._freeze_parameters()\n",
    "\n",
    "    def merged_strategy(\n",
    "            self,\n",
    "            hidden_states,\n",
    "            mode=\"mean\"\n",
    "    ):\n",
    "        if mode == \"mean\":\n",
    "            outputs = torch.mean(hidden_states, dim=1)\n",
    "        elif mode == \"sum\":\n",
    "            outputs = torch.sum(hidden_states, dim=1)\n",
    "        elif mode == \"max\":\n",
    "            outputs = torch.max(hidden_states, dim=1)[0]\n",
    "        else:\n",
    "            raise Exception(\n",
    "                \"The pooling method hasn't been defined! Your pooling mode must be one of these ['mean', 'sum', 'max']\")\n",
    "\n",
    "        return outputs\n",
    "\n",
    "    def forward(\n",
    "            self,\n",
    "            input_values,\n",
    "            attention_mask=None,\n",
    "            output_attentions=None,\n",
    "            output_hidden_states=None,\n",
    "            return_dict=None,\n",
    "            labels=None,\n",
    "    ):\n",
    "        return_dict = return_dict if return_dict is not None else self.config.use_return_dict\n",
    "        outputs = self.wav2vec2(\n",
    "            input_values,\n",
    "            attention_mask=attention_mask,\n",
    "            output_attentions=output_attentions,\n",
    "            output_hidden_states=output_hidden_states,\n",
    "            return_dict=return_dict,\n",
    "        )\n",
    "        hidden_states = outputs[0]\n",
    "        hidden_states = self.merged_strategy(hidden_states, mode=self.pooling_mode)\n",
    "        logits = self.classifier(hidden_states)\n",
    "\n",
    "        loss = None\n",
    "        if labels is not None:\n",
    "            if self.config.problem_type is None:\n",
    "                if self.num_labels == 1:\n",
    "                    self.config.problem_type = \"regression\"\n",
    "                elif self.num_labels > 1 and (labels.dtype == torch.long or labels.dtype == torch.int):\n",
    "                    self.config.problem_type = \"single_label_classification\"\n",
    "                else:\n",
    "                    self.config.problem_type = \"multi_label_classification\"\n",
    "\n",
    "            if self.config.problem_type == \"regression\":\n",
    "                loss_fct = MSELoss()\n",
    "                loss = loss_fct(logits.view(-1, self.num_labels), labels)\n",
    "            elif self.config.problem_type == \"single_label_classification\":\n",
    "                loss_fct = CrossEntropyLoss()\n",
    "                loss = loss_fct(logits.view(-1, self.num_labels), labels.view(-1))\n",
    "            elif self.config.problem_type == \"multi_label_classification\":\n",
    "                loss_fct = BCEWithLogitsLoss()\n",
    "                loss = loss_fct(logits, labels)\n",
    "\n",
    "        if not return_dict:\n",
    "            output = (logits,) + outputs[2:]\n",
    "            return ((loss,) + output) if loss is not None else output\n",
    "\n",
    "        return SpeechClassifierOutput(\n",
    "            loss=loss,\n",
    "            logits=logits,\n",
    "            hidden_states=outputs.hidden_states,\n",
    "            attentions=outputs.attentions,\n",
    "        )\n"
   ]
  }
 ],
 "metadata": {
  "environment": {
   "kernel": "python3",
   "name": "common-cu110.m87",
   "type": "gcloud",
   "uri": "gcr.io/deeplearning-platform-release/base-cu110:m87"
  },
  "kernelspec": {
   "display_name": "Python 3",
   "language": "python",
   "name": "python3"
  },
  "language_info": {
   "codemirror_mode": {
    "name": "ipython",
    "version": 3
   },
   "file_extension": ".py",
   "mimetype": "text/x-python",
   "name": "python",
   "nbconvert_exporter": "python",
   "pygments_lexer": "ipython3",
   "version": "3.7.12"
  }
 },
 "nbformat": 4,
 "nbformat_minor": 5
}
