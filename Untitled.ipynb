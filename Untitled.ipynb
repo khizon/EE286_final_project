{
 "cells": [
  {
   "cell_type": "code",
   "execution_count": 1,
   "id": "6b11a152-7725-4709-a159-26c040e64cd2",
   "metadata": {},
   "outputs": [],
   "source": [
    "!pip install transformers --q\n",
    "!pip install datasets --q\n",
    "!pip install torch==1.10.0+cu113 torchvision==0.11.1+cu113 torchaudio===0.10.0+cu113 -f https://download.pytorch.org/whl/cu113/torch_stable.html --q\n",
    "!pip install --upgrade --force-reinstall gdown --q\n",
    "!pip install wandb --q\n",
    "!pip install jiwer --q\n",
    "!pip install librosa --q"
   ]
  },
  {
   "cell_type": "code",
   "execution_count": 1,
   "id": "16c1b234-3c79-48be-9f98-fdf02d9b6b3a",
   "metadata": {},
   "outputs": [
    {
     "name": "stderr",
     "output_type": "stream",
     "text": [
      "/opt/conda/lib/python3.7/site-packages/torchaudio/_internal/module_utils.py:87: UserWarning: Failed to import soundfile. 'soundfile' backend is not available.\n",
      "  warnings.warn(\"Failed to import soundfile. 'soundfile' backend is not available.\")\n"
     ]
    }
   ],
   "source": [
    "import pandas as pd\n",
    "import numpy as np\n",
    "\n",
    "import torchaudio"
   ]
  },
  {
   "cell_type": "code",
   "execution_count": 2,
   "id": "b3493661-5861-445c-95c0-2b070e1bc8ad",
   "metadata": {},
   "outputs": [
    {
     "data": {
      "text/html": [
       "<div>\n",
       "<style scoped>\n",
       "    .dataframe tbody tr th:only-of-type {\n",
       "        vertical-align: middle;\n",
       "    }\n",
       "\n",
       "    .dataframe tbody tr th {\n",
       "        vertical-align: top;\n",
       "    }\n",
       "\n",
       "    .dataframe thead th {\n",
       "        text-align: right;\n",
       "    }\n",
       "</style>\n",
       "<table border=\"1\" class=\"dataframe\">\n",
       "  <thead>\n",
       "    <tr style=\"text-align: right;\">\n",
       "      <th></th>\n",
       "      <th>name</th>\n",
       "      <th>path</th>\n",
       "      <th>emotion</th>\n",
       "    </tr>\n",
       "  </thead>\n",
       "  <tbody>\n",
       "    <tr>\n",
       "      <th>0</th>\n",
       "      <td>h08 (2)</td>\n",
       "      <td>data/aesdd/happiness/h08 (2).wav</td>\n",
       "      <td>happiness</td>\n",
       "    </tr>\n",
       "    <tr>\n",
       "      <th>1</th>\n",
       "      <td>a05 (6)</td>\n",
       "      <td>data/aesdd/anger/a05 (6).wav</td>\n",
       "      <td>anger</td>\n",
       "    </tr>\n",
       "    <tr>\n",
       "      <th>2</th>\n",
       "      <td>d03 (6)</td>\n",
       "      <td>data/aesdd/disgust/d03 (6).wav</td>\n",
       "      <td>disgust</td>\n",
       "    </tr>\n",
       "    <tr>\n",
       "      <th>3</th>\n",
       "      <td>s18 (1)</td>\n",
       "      <td>data/aesdd/sadness/s18 (1).wav</td>\n",
       "      <td>sadness</td>\n",
       "    </tr>\n",
       "    <tr>\n",
       "      <th>4</th>\n",
       "      <td>s12 (3)</td>\n",
       "      <td>data/aesdd/sadness/s12 (3).wav</td>\n",
       "      <td>sadness</td>\n",
       "    </tr>\n",
       "  </tbody>\n",
       "</table>\n",
       "</div>"
      ],
      "text/plain": [
       "      name                              path    emotion\n",
       "0  h08 (2)  data/aesdd/happiness/h08 (2).wav  happiness\n",
       "1  a05 (6)      data/aesdd/anger/a05 (6).wav      anger\n",
       "2  d03 (6)    data/aesdd/disgust/d03 (6).wav    disgust\n",
       "3  s18 (1)    data/aesdd/sadness/s18 (1).wav    sadness\n",
       "4  s12 (3)    data/aesdd/sadness/s12 (3).wav    sadness"
      ]
     },
     "execution_count": 2,
     "metadata": {},
     "output_type": "execute_result"
    }
   ],
   "source": [
    "train = pd.read_csv('data/train.csv', delimiter = '\\t')\n",
    "train.head()"
   ]
  },
  {
   "cell_type": "code",
   "execution_count": 17,
   "id": "2f8aae5e-e17e-44a7-843d-fd2a1856f556",
   "metadata": {},
   "outputs": [
    {
     "name": "stderr",
     "output_type": "stream",
     "text": [
      "/opt/conda/lib/python3.7/site-packages/transformers/configuration_utils.py:349: UserWarning: Passing `gradient_checkpointing` to a config initialization is deprecated and will be removed in v5 Transformers. Using `model.gradient_checkpointing_enable()` instead, or if you are using the `Trainer` API, pass `gradient_checkpointing=True` in your `TrainingArguments`.\n",
      "  \"Passing `gradient_checkpointing` to a config initialization is deprecated and will be removed in v5 \"\n",
      "Special tokens have been added in the vocabulary, make sure the associated word embeddings are fine-tuned or trained.\n"
     ]
    },
    {
     "name": "stdout",
     "output_type": "stream",
     "text": [
      "The target sampling rate: 16000\n"
     ]
    }
   ],
   "source": [
    "# Processor\n",
    "from transformers import Wav2Vec2Processor, Wav2Vec2Model\n",
    "\n",
    "model_name = \"lighteternal/wav2vec2-large-xlsr-53-greek\"\n",
    "processor = Wav2Vec2Processor.from_pretrained(model_name)\n",
    "target_sampling_rate = processor.feature_extractor.sampling_rate\n",
    "print(f\"The target sampling rate: {target_sampling_rate}\")"
   ]
  },
  {
   "cell_type": "code",
   "execution_count": 18,
   "id": "914bc3d7-70ee-4631-82df-aa7bb19c77e3",
   "metadata": {},
   "outputs": [
    {
     "data": {
      "text/plain": [
       "(41863,)"
      ]
     },
     "execution_count": 18,
     "metadata": {},
     "output_type": "execute_result"
    }
   ],
   "source": [
    "index = 24\n",
    "sample = train.iloc[index]\n",
    "signal, sr = torchaudio.load(sample['path'])\n",
    "resampler = torchaudio.transforms.Resample(sr, target_sampling_rate)\n",
    "signal = resampler(signal).squeeze().numpy()\n",
    "signal.shape"
   ]
  },
  {
   "cell_type": "code",
   "execution_count": 38,
   "id": "07eb549e-10df-4f96-bbc0-e4fa42909a94",
   "metadata": {},
   "outputs": [],
   "source": [
    "inputs = processor(signal, sampling_rate = target_sampling_rate, return_tensors = 'pt')"
   ]
  },
  {
   "cell_type": "code",
   "execution_count": 39,
   "id": "0ba5572f-82d3-4c15-93bb-07031b4af096",
   "metadata": {},
   "outputs": [
    {
     "data": {
      "text/plain": [
       "{'input_values': tensor([[1.7342e+00, 2.8559e+00, 2.7943e+00,  ..., 2.5836e-04, 2.1254e-04,\n",
       "         2.1337e-04]]), 'attention_mask': tensor([[1, 1, 1,  ..., 1, 1, 1]], dtype=torch.int32)}"
      ]
     },
     "execution_count": 39,
     "metadata": {},
     "output_type": "execute_result"
    }
   ],
   "source": [
    "inputs"
   ]
  },
  {
   "cell_type": "code",
   "execution_count": 41,
   "id": "591dfcfd-4fa3-476d-a84b-9f11af39cd5a",
   "metadata": {},
   "outputs": [
    {
     "data": {
      "text/plain": [
       "torch.Size([1, 41863])"
      ]
     },
     "execution_count": 41,
     "metadata": {},
     "output_type": "execute_result"
    }
   ],
   "source": [
    "inputs['input_values'].shape"
   ]
  },
  {
   "cell_type": "code",
   "execution_count": 42,
   "id": "a06c39b0-af39-4244-80e3-9831f451351c",
   "metadata": {},
   "outputs": [
    {
     "data": {
      "text/plain": [
       "torch.Size([1, 41863])"
      ]
     },
     "execution_count": 42,
     "metadata": {},
     "output_type": "execute_result"
    }
   ],
   "source": [
    "inputs['attention_mask'].shape"
   ]
  },
  {
   "cell_type": "code",
   "execution_count": 34,
   "id": "dc614851-4099-4694-b7cc-473085c00b32",
   "metadata": {},
   "outputs": [
    {
     "name": "stderr",
     "output_type": "stream",
     "text": [
      "Some weights of the model checkpoint at lighteternal/wav2vec2-large-xlsr-53-greek were not used when initializing Wav2Vec2Model: ['lm_head.bias', 'lm_head.weight']\n",
      "- This IS expected if you are initializing Wav2Vec2Model from the checkpoint of a model trained on another task or with another architecture (e.g. initializing a BertForSequenceClassification model from a BertForPreTraining model).\n",
      "- This IS NOT expected if you are initializing Wav2Vec2Model from the checkpoint of a model that you expect to be exactly identical (initializing a BertForSequenceClassification model from a BertForSequenceClassification model).\n"
     ]
    }
   ],
   "source": [
    "model = Wav2Vec2Model.from_pretrained(model_name)"
   ]
  },
  {
   "cell_type": "code",
   "execution_count": 43,
   "id": "ab3c8129-73b7-4095-b61b-329ca7dd9d3b",
   "metadata": {},
   "outputs": [
    {
     "name": "stderr",
     "output_type": "stream",
     "text": [
      "/opt/conda/lib/python3.7/site-packages/transformers/models/wav2vec2/modeling_wav2vec2.py:1093: UserWarning: __floordiv__ is deprecated, and its behavior will change in a future version of pytorch. It currently rounds toward 0 (like the 'trunc' function NOT 'floor'). This results in incorrect rounding for negative values. To keep the current behavior, use torch.div(a, b, rounding_mode='trunc'), or for actual floor division, use torch.div(a, b, rounding_mode='floor').\n",
      "  return (input_length - kernel_size) // stride + 1\n"
     ]
    }
   ],
   "source": [
    "outputs = model(inputs['input_values'], attention_mask = inputs['attention_mask'])"
   ]
  },
  {
   "cell_type": "code",
   "execution_count": 48,
   "id": "66dd919f-77af-406a-8754-3379f320e464",
   "metadata": {},
   "outputs": [
    {
     "data": {
      "text/plain": [
       "torch.Size([1, 130, 1024])"
      ]
     },
     "execution_count": 48,
     "metadata": {},
     "output_type": "execute_result"
    }
   ],
   "source": [
    "outputs.last_hidden_state.shape"
   ]
  }
 ],
 "metadata": {
  "environment": {
   "kernel": "python3",
   "name": "common-cu110.m87",
   "type": "gcloud",
   "uri": "gcr.io/deeplearning-platform-release/base-cu110:m87"
  },
  "kernelspec": {
   "display_name": "Python 3",
   "language": "python",
   "name": "python3"
  },
  "language_info": {
   "codemirror_mode": {
    "name": "ipython",
    "version": 3
   },
   "file_extension": ".py",
   "mimetype": "text/x-python",
   "name": "python",
   "nbconvert_exporter": "python",
   "pygments_lexer": "ipython3",
   "version": "3.7.12"
  }
 },
 "nbformat": 4,
 "nbformat_minor": 5
}
